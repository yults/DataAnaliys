{
 "cells": [
  {
   "cell_type": "code",
   "execution_count": 135,
   "metadata": {},
   "outputs": [
    {
     "name": "stdout",
     "output_type": "stream",
     "text": [
      "city                     object\n",
      "id                       object\n",
      "osm_city_nearest_name    object\n",
      "region                   object\n",
      "street                   object\n",
      "date                     object\n",
      "dtype: object\n",
      "['osm_amenity_points_in_0.005', 'osm_amenity_points_in_0.0075', 'osm_amenity_points_in_0.01', 'osm_catering_points_in_0.005', 'osm_city_nearest_population']\n",
      "(206474, 6)\n"
     ]
    },
    {
     "data": {
      "text/html": [
       "<div>\n",
       "<style scoped>\n",
       "    .dataframe tbody tr th:only-of-type {\n",
       "        vertical-align: middle;\n",
       "    }\n",
       "\n",
       "    .dataframe tbody tr th {\n",
       "        vertical-align: top;\n",
       "    }\n",
       "\n",
       "    .dataframe thead th {\n",
       "        text-align: right;\n",
       "    }\n",
       "</style>\n",
       "<table border=\"1\" class=\"dataframe\">\n",
       "  <thead>\n",
       "    <tr style=\"text-align: right;\">\n",
       "      <th></th>\n",
       "      <th>osm_amenity_points_in_0.005</th>\n",
       "      <th>osm_amenity_points1</th>\n",
       "      <th>osm_amenity_points_in_0.0075</th>\n",
       "      <th>osm_amenity_points_in_0.01</th>\n",
       "      <th>osm_catering_points_in_0.005</th>\n",
       "    </tr>\n",
       "  </thead>\n",
       "  <tbody>\n",
       "    <tr>\n",
       "      <th>0</th>\n",
       "      <td>21</td>\n",
       "      <td>66.276667</td>\n",
       "      <td>51</td>\n",
       "      <td>89</td>\n",
       "      <td>2</td>\n",
       "    </tr>\n",
       "    <tr>\n",
       "      <th>1</th>\n",
       "      <td>1</td>\n",
       "      <td>10.770000</td>\n",
       "      <td>7</td>\n",
       "      <td>21</td>\n",
       "      <td>0</td>\n",
       "    </tr>\n",
       "    <tr>\n",
       "      <th>2</th>\n",
       "      <td>21</td>\n",
       "      <td>47.070000</td>\n",
       "      <td>37</td>\n",
       "      <td>50</td>\n",
       "      <td>3</td>\n",
       "    </tr>\n",
       "    <tr>\n",
       "      <th>3</th>\n",
       "      <td>5</td>\n",
       "      <td>36.956667</td>\n",
       "      <td>39</td>\n",
       "      <td>49</td>\n",
       "      <td>1</td>\n",
       "    </tr>\n",
       "    <tr>\n",
       "      <th>4</th>\n",
       "      <td>8</td>\n",
       "      <td>11.880000</td>\n",
       "      <td>8</td>\n",
       "      <td>9</td>\n",
       "      <td>2</td>\n",
       "    </tr>\n",
       "  </tbody>\n",
       "</table>\n",
       "</div>"
      ],
      "text/plain": [
       "   osm_amenity_points_in_0.005  osm_amenity_points1  \\\n",
       "0                           21            66.276667   \n",
       "1                            1            10.770000   \n",
       "2                           21            47.070000   \n",
       "3                            5            36.956667   \n",
       "4                            8            11.880000   \n",
       "\n",
       "   osm_amenity_points_in_0.0075  osm_amenity_points_in_0.01  \\\n",
       "0                            51                          89   \n",
       "1                             7                          21   \n",
       "2                            37                          50   \n",
       "3                            39                          49   \n",
       "4                             8                           9   \n",
       "\n",
       "   osm_catering_points_in_0.005  \n",
       "0                             2  \n",
       "1                             0  \n",
       "2                             3  \n",
       "3                             1  \n",
       "4                             2  "
      ]
     },
     "execution_count": 135,
     "metadata": {},
     "output_type": "execute_result"
    }
   ],
   "source": [
    "from sklearn.preprocessing import MinMaxScaler\n",
    "from numpy import NaN, int64\n",
    "import math\n",
    "import pandas as pd\n",
    "#from sklearn.model_selection import train_test_split #для разделения на тест и трейн\n",
    "from sklearn.neighbors import KNeighborsRegressor #используемый метод\n",
    "from sklearn.linear_model import LinearRegression\n",
    "from sklearn.metrics import mean_absolute_percentage_error #Оценка качества модели\n",
    "ss = pd.read_csv('data4/sample_submission.csv')\n",
    "testDF = pd.read_csv('data4/test_x.csv')\n",
    "trainDF = pd.read_csv('data4/train.csv')\n",
    "print(trainDF.dtypes[trainDF.dtypes == 'object'])\n",
    "#trainDF.hist(bins=50, figsize=(20,30))\n",
    "#trainDF.info()\n",
    "#trainDF.describe()\n",
    "#trainDF.value_counts()\n",
    "#print(trainDF.shape)\n",
    "#print(testDF.shape)\n",
    "#trainDF.insert(1, 'osm_catering_points1', (trainDF['osm_catering_points_in_0.005'] * 200 +\n",
    "#                                           trainDF['osm_catering_points_in_0.0075'] * 133 + trainDF['osm_catering_points_in_0.01'] * 100)/300)\n",
    "#trainDF.insert(1, 'osm_amenity_points1', (trainDF['osm_amenity_points_in_0.005'] * 400 +\n",
    " #              trainDF['osm_amenity_points_in_0.0075'] * 133 + trainDF['osm_amenity_points_in_0.01'] * 100)/300)\n",
    "CorrKoef = trainDF.corr()\n",
    "CorField = []\n",
    "#if (trainDF['osm_amenity_points1'] in CorrKoef.index[CorrKoef['per_square_meter_price'] > 0.45]):\n",
    "  #  print('YES')\n",
    "for j in CorrKoef.index[CorrKoef['per_square_meter_price'] > 0.482]:\n",
    "    if (j == 'osm_catering_points1'):\n",
    "        print('YES')\n",
    "    if 'per_square_meter_price' != j and j not in CorField and 'per_square_meter_price' not in CorField:\n",
    "        CorField.append(j)\n",
    "        #print('per_square_meter_price', j,\n",
    "              #CorrKoef['per_square_meter_price'][CorrKoef.index == j].values[0])\n",
    "print(CorField)\n",
    "cols = CorField\n",
    "cols.append('per_square_meter_price')\n",
    "#cols.append('osm_catering_points_in_0.0075')\n",
    "#cols.append('osm_catering_points_in_0.01')\n",
    "trainDF = trainDF[cols]\n",
    "print(trainDF.shape)\n",
    "#avg_value = trainDF[~trainDF.osm_city_nearest_population.isna()\n",
    " #                   ].osm_city_nearest_population.mean()\n",
    "#trainDF = trainDF.assign(\n",
    "#    osm_city_nearest_population=trainDF.osm_city_nearest_population.fillna(avg_value))\n",
    "trainDF.dropna(axis='columns', how='any', inplace=True)\n",
    "trainDF.insert(1, 'osm_amenity_points1', (trainDF['osm_amenity_points_in_0.005'] * 200 +\n",
    "               trainDF['osm_amenity_points_in_0.0075'] * 133 + trainDF['osm_amenity_points_in_0.01'] * 100)/300) #при объединении этих признаков получаем большкю кореляцию\n",
    "#trainDF.insert(1, 'osm_catering_points1', (trainDF['osm_catering_points_in_0.005'] * 200 +\n",
    "#               trainDF['osm_catering_points_in_0.0075'] * 133 + trainDF['osm_catering_points_in_0.01'] * 100)/300)\n",
    "cols = trainDF.columns.values.tolist()\n",
    "cols.remove('osm_amenity_points1')\n",
    "#cols.remove('osm_catering_points1')\n",
    "##print(trainDF.shape)\n",
    "cols.remove('per_square_meter_price')\n",
    "testDF = testDF[cols]\n",
    "#avg_value = testDF[~testDF.osm_city_nearest_population.isna()\n",
    " #                   ].osm_city_nearest_population.mean()\n",
    "#testDF = testDF.assign(\n",
    "#    osm_city_nearest_population=testDF.osm_city_nearest_population.fillna(avg_value))\n",
    "testDF.insert(1, 'osm_amenity_points1', (testDF['osm_amenity_points_in_0.005'] * 200 +\n",
    "                                         testDF['osm_amenity_points_in_0.0075'] * 133 + testDF['osm_amenity_points_in_0.01'] * 100)/300)\n",
    "#testDF.insert(1, 'osm_catering_points1', (testDF['osm_catering_points_in_0.005'] * 200 +\n",
    "##                                         testDF['osm_catering_points_in_0.0075'] * 133 + testDF['osm_catering_points_in_0.01'] * 100)/300)\n",
    "#trainDF.drop(columns=['osm_catering_points_in_0.01',\n",
    "#             'osm_catering_points_in_0.0075'], axis=1, inplace=True)\n",
    "#testDF.drop(columns=['osm_catering_points_in_0.01',\n",
    "#            'osm_catering_points_in_0.0075'], axis=1, inplace=True)\n",
    "trainDF.head()\n",
    "testDF.head()\n",
    "#osm - open street map\n",
    "#osm_catering_points_in_0.005 Количество заведений общепита в радиусе 500 метров\n",
    "#osm_amenity_points_in_0.005 Количество объектов связанных с удобством в радиусе 500 метров\n",
    "#osm_city_nearest_population Население ближайшего города"
   ]
  },
  {
   "cell_type": "code",
   "execution_count": 136,
   "metadata": {},
   "outputs": [
    {
     "data": {
      "text/plain": [
       "0.508837795395076"
      ]
     },
     "execution_count": 136,
     "metadata": {},
     "output_type": "execute_result"
    }
   ],
   "source": [
    "scaler = MinMaxScaler()\n",
    "scaler.fit(trainDF)\n",
    "scaler.fit(testDF)\n",
    "target_col = 'per_square_meter_price'\n",
    "train_x, train_y = trainDF.drop(\n",
    "    columns=['per_square_meter_price'], axis=1), trainDF[target_col]\n",
    "test_x, test_y = testDF, ss[target_col]\n",
    "model = LinearRegression()\n",
    "model.fit(train_x, train_y)\n",
    "pred = model.predict(test_x)*1.9\n",
    "mean_absolute_percentage_error(test_y, pred/1.9)"
   ]
  },
  {
   "cell_type": "code",
   "execution_count": 137,
   "metadata": {},
   "outputs": [],
   "source": [
    "ss1 = ss;\n",
    "ss1 = ss.drop(columns = ['per_square_meter_price'], axis = 1)\n",
    "ss1 = ss.assign(per_square_meter_price=pred)\n",
    "def change_mist(s: pd.Series) -> pd.Series:\n",
    "    if (s < 0):\n",
    "        return abs(s)\n",
    "    return s\n",
    "ss1.per_square_meter_price = ss1.per_square_meter_price.apply(change_mist)\n",
    "ss1.to_csv('data4/submission.csv', index=False)"
   ]
  },
  {
   "cell_type": "code",
   "execution_count": 138,
   "metadata": {},
   "outputs": [
    {
     "data": {
      "image/png": "[encoded data removed]",
      "text/plain": [
       "<Figure size 432x288 with 1 Axes>"
      ]
     },
     "metadata": {
      "needs_background": "light"
     },
     "output_type": "display_data"
    }
   ],
   "source": [
    "ss11 = pd.read_csv('data4/submission.csv')\n",
    "#ss['rating_org'].hist()\n",
    "ss11['per_square_meter_price'].hist(density=True)\n",
    "trainDF['per_square_meter_price'].hist(density=True)\n",
    "ss11.to_csv('data4/submission1.csv', index=False)\n"
   ]
  },
  {
   "cell_type": "code",
   "execution_count": 139,
   "metadata": {},
   "outputs": [
    {
     "data": {
      "text/plain": [
       "<AxesSubplot:>"
      ]
     },
     "execution_count": 139,
     "metadata": {},
     "output_type": "execute_result"
    },
    {
     "data": {
      "image/png": "[encoded data removed]",
      "text/plain": [
       "<Figure size 432x288 with 1 Axes>"
      ]
     },
     "metadata": {
      "needs_background": "light"
     },
     "output_type": "display_data"
    }
   ],
   "source": [
    "#trainDF['per_square_meter_price'].hist(density=True)\n",
    "ss11['per_square_meter_price'].hist(density=True)\n"
   ]
  },
  {
   "cell_type": "code",
   "execution_count": 122,
   "metadata": {},
   "outputs": [
    {
     "data": {
      "text/plain": [
       "<AxesSubplot:>"
      ]
     },
     "execution_count": 122,
     "metadata": {},
     "output_type": "execute_result"
    },
    {
     "data": {
      "image/png": "[encoded data removed]",
      "text/plain": [
       "<Figure size 432x288 with 1 Axes>"
      ]
     },
     "metadata": {
      "needs_background": "light"
     },
     "output_type": "display_data"
    }
   ],
   "source": [
    "trainDF['per_square_meter_price'].hist(density=True)\n"
   ]
  }
 ],
 "metadata": {
  "kernelspec": {
   "display_name": "Python 3.9.12 ('base')",
   "language": "python",
   "name": "python3"
  },
  "language_info": {
   "codemirror_mode": {
    "name": "ipython",
    "version": 3
   },
   "file_extension": ".py",
   "mimetype": "text/x-python",
   "name": "python",
   "nbconvert_exporter": "python",
   "pygments_lexer": "ipython3",
   "version": "3.9.12 (main, Apr  4 2022, 05:22:27) [MSC v.1916 64 bit (AMD64)]"
  },
  "orig_nbformat": 4,
  "vscode": {
   "interpreter": {
    "hash": "b3835eee98c01bb67ef29bfc8ffc21977a94117ec8b52984d0f912fb5d45b124"
   }
  }
 },
 "nbformat": 4,
 "nbformat_minor": 2
}
