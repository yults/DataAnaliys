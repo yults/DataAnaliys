{
 "cells": [
  {
   "cell_type": "code",
   "execution_count": 3,
   "metadata": {},
   "outputs": [],
   "source": [
    "import pandas as pd\n",
    "import numpy as np\n",
    "\n",
    "from scipy.stats import expon\n",
    "\n",
    "\n",
    "chat_id = 409964663 # Ваш chat ID, не меняйте название переменной\n",
    "\n",
    "def solution(p: float, x: np.array) -> tuple:\n",
    "    # Измените код этой функции\n",
    "    # Это будет вашим решением\n",
    "    # Не меняйте название функции и её аргументы\n",
    "    loc = np.mean(x * 2 / 68 ** 2)\n",
    "    scale = np.std(x * 2 / 68 ** 2, ddof=1) / np.sqrt(len(x))\n",
    "    return loc - scale * (expon().ppf((1 - p) / 2)), \\\n",
    "        loc + scale * (expon().ppf(1 - (1 - p) / 2))\n"
   ]
  },
  {
   "cell_type": "code",
   "execution_count": 4,
   "metadata": {},
   "outputs": [
    {
     "name": "stdout",
     "output_type": "stream",
     "text": [
      "Доверительный интервал: (0.004734181660137084, 0.004896923463272544)\n"
     ]
    }
   ],
   "source": [
    "x = np.array([10.5, 11.2, 12.1, 10.8, 11.0])\n",
    "alpha = 0.05\n",
    "\n",
    "ci = solution(alpha, x)\n",
    "\n",
    "print(f\"Доверительный интервал: {ci}\")\n"
   ]
  },
  {
   "cell_type": "code",
   "execution_count": null,
   "metadata": {},
   "outputs": [],
   "source": []
  }
 ],
 "metadata": {
  "kernelspec": {
   "display_name": "base",
   "language": "python",
   "name": "python3"
  },
  "language_info": {
   "codemirror_mode": {
    "name": "ipython",
    "version": 3
   },
   "file_extension": ".py",
   "mimetype": "text/x-python",
   "name": "python",
   "nbconvert_exporter": "python",
   "pygments_lexer": "ipython3",
   "version": "3.9.12"
  },
  "orig_nbformat": 4
 },
 "nbformat": 4,
 "nbformat_minor": 2
}
