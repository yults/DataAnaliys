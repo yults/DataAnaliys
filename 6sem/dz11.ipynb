{
 "cells": [
  {
   "cell_type": "code",
   "execution_count": 9,
   "metadata": {},
   "outputs": [],
   "source": [
    "import pandas as pd\n",
    "import numpy as np\n",
    "\n",
    "\n",
    "chat_id = 409964663  # Ваш chat ID, не меняйте название переменной\n",
    "\n",
    "\n",
    "def solution(x: np.array) -> float:\n",
    "    # Измените код этой функции\n",
    "    # Это будет вашим решением\n",
    "    # Не меняйте название функции и её аргументы\n",
    "    return np.mean(np.log(x - 711))  # Ваш ответ\n"
   ]
  },
  {
   "cell_type": "code",
   "execution_count": 10,
   "metadata": {},
   "outputs": [
    {
     "name": "stdout",
     "output_type": "stream",
     "text": [
      "6.944819483071756\n"
     ]
    }
   ],
   "source": [
    "print(solution(np.array([1000, 1500, 2000, 2500, 3000])))"
   ]
  }
 ],
 "metadata": {
  "kernelspec": {
   "display_name": "base",
   "language": "python",
   "name": "python3"
  },
  "language_info": {
   "codemirror_mode": {
    "name": "ipython",
    "version": 3
   },
   "file_extension": ".py",
   "mimetype": "text/x-python",
   "name": "python",
   "nbconvert_exporter": "python",
   "pygments_lexer": "ipython3",
   "version": "3.9.12"
  },
  "orig_nbformat": 4
 },
 "nbformat": 4,
 "nbformat_minor": 2
}
