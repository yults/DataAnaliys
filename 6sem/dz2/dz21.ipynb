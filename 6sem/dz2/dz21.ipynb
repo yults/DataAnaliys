{
 "cells": [
  {
   "cell_type": "code",
   "execution_count": 1,
   "metadata": {},
   "outputs": [],
   "source": [
    "import pandas as pd\n",
    "import numpy as np\n",
    "from statsmodels.stats.proportion import proportions_ztest\n",
    "\n",
    "chat_id = 409964663 # Ваш chat ID, не меняйте название переменной\n",
    "\n",
    "def solution(x_success: int, \n",
    "             x_cnt: int, \n",
    "             y_success: int, \n",
    "             y_cnt: int) -> bool:\n",
    "    # Измените код этой функции\n",
    "    # Это будет вашим решением\n",
    "    # Не меняйте название функции и её аргументы\n",
    "    # Ваш ответ, True или False\n",
    "    f, s = proportions_ztest(np.array([x_success, x_cnt]), np.array(\n",
    "        [y_success, y_cnt]), alternative='larger')\n",
    "    return s < 0.01\n"
   ]
  }
 ],
 "metadata": {
  "kernelspec": {
   "display_name": "Python 3",
   "language": "python",
   "name": "python3"
  },
  "language_info": {
   "codemirror_mode": {
    "name": "ipython",
    "version": 3
   },
   "file_extension": ".py",
   "mimetype": "text/x-python",
   "name": "python",
   "nbconvert_exporter": "python",
   "pygments_lexer": "ipython3",
   "version": "3.10.7"
  },
  "orig_nbformat": 4
 },
 "nbformat": 4,
 "nbformat_minor": 2
}
